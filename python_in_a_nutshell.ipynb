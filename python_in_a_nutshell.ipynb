{
  "metadata": {
    "language_info": {
      "codemirror_mode": {
        "name": "python",
        "version": 3
      },
      "file_extension": ".py",
      "mimetype": "text/x-python",
      "name": "python",
      "nbconvert_exporter": "python",
      "pygments_lexer": "ipython3",
      "version": "3.8"
    },
    "kernelspec": {
      "name": "python",
      "display_name": "Python (Pyodide)",
      "language": "python"
    }
  },
  "nbformat_minor": 4,
  "nbformat": 4,
  "cells": [
    {
      "cell_type": "markdown",
      "source": "# Python 🐍 in a nutshell 🥜\n\nThis is a small introduction to the programming/scripting language called [Python](https://www.python.org/).  \nIt covers everything from basics like how to declare variables up to more advanced notations like comprehensions.\n\n# Preface\n\nAs this introduction will mention and sometimes dip into a lot of topics that are not Python specific but deemed useful programming related information by the author, it is, albeit encouraged, by all means not required to follow every single [link](https://http.cat/204).\n\nEspecially at the beginning of the introduction, the reader will encounter the use of so called builtins. These are language specific keywords whos definition/meaning is pre-built into the language. `print` for example will display the given text, whereas `type` will display the type of a variable.\n\n# Foundation 🏗\n\nPython is a [scripting language](https://www.techtarget.com/whatis/definition/scripting-language). Where C++ source code needs to be compiled before it can be executed, python source code is being interpreted on the fly.  \nIn C++ the compilation is done by a so called compiler, this is usually [gcc](https://linux.die.net/man/1/gcc). In python the interpretation is done by a so called interpreter, this is usually the [python interpreter](https://docs.python.org/3/tutorial/interpreter.html).  \nBoth compiler and interpreter are just programs. Same as Convertible and Coupé are just cars.\n\nJust as there exist different Convertible/Coupé versions over the lifespan of a car model, there are also different versions of the compiler or interpreter.\nWhile the most recent Python version at time of writing is [3.11](https://docs.python.org/3/whatsnew/3.11.html), the more commonly used Python version is [3.7](https://docs.python.org/3.7/whatsnew/3.7.html). (Usually pyton versions have 3 sets of digits, like `3.7.14`, but the [patch version](https://semver.org/) is not relevant for us)\n\n# Getting started 👩‍💻\n\nNormally the first step of getting started with Python programming would be to download the Python installer from the [official website](https://www.python.org/downloads/) and proceeding with  the installation process.   \nNot so for this introduction however!  \n\nAs you might have noticed, we are in a so called Jupyter Notebook 📒. This allows us to run Python code directly on this page.  \nTo try it out, simply move your cursor in the source code line below (click in it) and click the play (`▶`) button at the top. ",
      "metadata": {}
    },
    {
      "cell_type": "code",
      "source": "print(\"Hello World\")",
      "metadata": {
        "trusted": true
      },
      "execution_count": 29,
      "outputs": [
        {
          "name": "stdout",
          "text": "Hello World\n",
          "output_type": "stream"
        }
      ]
    },
    {
      "cell_type": "markdown",
      "source": "If you did everything right, the words `Hello World` should have appeared just above this line 🚀\n\nWhenever you see such a source code Cell (prefixed with a number in scare brackets), please be sure to run it before you proceed.",
      "metadata": {}
    },
    {
      "cell_type": "markdown",
      "source": "# Variables\n\nPython is an untyped language. This means we don't have to tell Python what type a variable will be, it'll figure that out on its own. (more or less)\n\n### Immutable\n\nLet's declare our very first variables:",
      "metadata": {}
    },
    {
      "cell_type": "code",
      "source": "favorite_color = \"cyan\"\nfavorite_number = 8",
      "metadata": {
        "trusted": true
      },
      "execution_count": 30,
      "outputs": []
    },
    {
      "cell_type": "markdown",
      "source": "We now have two variables, one called `favorite_color` and another one called `favorite_number`.  \nAs we used quotation marks (it doesn't matter if single `'` or double `\"`) to frame the value of our first variable, `favorite_color`, Python knows it is a string (`str`).  ",
      "metadata": {}
    },
    {
      "cell_type": "code",
      "source": "type(favorite_color)",
      "metadata": {
        "trusted": true
      },
      "execution_count": 31,
      "outputs": [
        {
          "execution_count": 31,
          "output_type": "execute_result",
          "data": {
            "text/plain": "str"
          },
          "metadata": {}
        }
      ]
    },
    {
      "cell_type": "markdown",
      "source": "And, as the value of the second variable, `favorite_number`, only contains numbers, Python knows it is an integer (`int`).",
      "metadata": {}
    },
    {
      "cell_type": "code",
      "source": "type(favorite_number)",
      "metadata": {
        "trusted": true
      },
      "execution_count": 32,
      "outputs": [
        {
          "execution_count": 32,
          "output_type": "execute_result",
          "data": {
            "text/plain": "int"
          },
          "metadata": {}
        }
      ]
    },
    {
      "cell_type": "markdown",
      "source": "If we change the value of our `favorite_number` variable to `13.08`, the type will also change from integer to float (`float`).",
      "metadata": {}
    },
    {
      "cell_type": "code",
      "source": "favorite_number = 13.08\ntype(favorite_number)",
      "metadata": {
        "trusted": true
      },
      "execution_count": 33,
      "outputs": [
        {
          "execution_count": 33,
          "output_type": "execute_result",
          "data": {
            "text/plain": "float"
          },
          "metadata": {}
        }
      ]
    },
    {
      "cell_type": "markdown",
      "source": "In addition to the default variable types (`int`, `float`, `str`), python has a few more types like `list`, `dict` and `tuple`.  \n\n### Mutable\n\nA `list` is best compared to an `array` in C++. It is defined using square brackets (`[`, `]`) and contain anything: a string, an integer, another list, etc.  \nIn our case it will contain three characters. (Note that for python even a single character is still a string)",
      "metadata": {}
    },
    {
      "cell_type": "code",
      "source": "my_list = [\"a\", \"b\", \"c\"]",
      "metadata": {
        "trusted": true
      },
      "execution_count": 34,
      "outputs": []
    },
    {
      "cell_type": "markdown",
      "source": "As with a C++ `array`, you access the values in a Python list using their index, starting at 0.",
      "metadata": {}
    },
    {
      "cell_type": "code",
      "source": "my_list[1]",
      "metadata": {
        "trusted": true
      },
      "execution_count": 35,
      "outputs": [
        {
          "execution_count": 35,
          "output_type": "execute_result",
          "data": {
            "text/plain": "'b'"
          },
          "metadata": {}
        }
      ]
    },
    {
      "cell_type": "markdown",
      "source": "You can also use negativ indexes",
      "metadata": {}
    },
    {
      "cell_type": "code",
      "source": "my_list[-1]",
      "metadata": {
        "trusted": true
      },
      "execution_count": 36,
      "outputs": [
        {
          "execution_count": 36,
          "output_type": "execute_result",
          "data": {
            "text/plain": "'c'"
          },
          "metadata": {}
        }
      ]
    },
    {
      "cell_type": "markdown",
      "source": "You can change (re-assign) the value at a given index by simply assigning it a new value",
      "metadata": {}
    },
    {
      "cell_type": "code",
      "source": "my_list[1] = \"d\"\nmy_list",
      "metadata": {
        "trusted": true
      },
      "execution_count": 37,
      "outputs": [
        {
          "execution_count": 37,
          "output_type": "execute_result",
          "data": {
            "text/plain": "['a', 'd', 'c']"
          },
          "metadata": {}
        }
      ]
    },
    {
      "cell_type": "markdown",
      "source": "A `dict` is similar to a `list`, as it can also contain anything: a string, an integer, a list, another dict, etc.  \nIn our case it will container `my_list` and two numbers.",
      "metadata": {}
    },
    {
      "cell_type": "code",
      "source": "my_dict = {\"some_list\": my_list, \"one_number\": 1, \"another_number\": 2}\nmy_dict",
      "metadata": {
        "trusted": true
      },
      "execution_count": 38,
      "outputs": [
        {
          "execution_count": 38,
          "output_type": "execute_result",
          "data": {
            "text/plain": "{'some_list': ['a', 'd', 'c'], 'one_number': 1, 'another_number': 2}"
          },
          "metadata": {}
        }
      ]
    },
    {
      "cell_type": "markdown",
      "source": "As you can see, a `dict` consists of key/value pairs. For each given key there can only be one value (where value can be of any type).  \nYou can access the values in a Python dict using their key:",
      "metadata": {}
    },
    {
      "cell_type": "code",
      "source": "my_dict[\"some_list\"]",
      "metadata": {
        "trusted": true
      },
      "execution_count": 39,
      "outputs": [
        {
          "execution_count": 39,
          "output_type": "execute_result",
          "data": {
            "text/plain": "['a', 'd', 'c']"
          },
          "metadata": {}
        }
      ]
    },
    {
      "cell_type": "markdown",
      "source": "And as with a list, you can change (re-assign) values of a given key by simply assigning it a new value",
      "metadata": {}
    },
    {
      "cell_type": "code",
      "source": "my_dict[\"one_number\"] = 3\nmy_dict",
      "metadata": {
        "trusted": true
      },
      "execution_count": 40,
      "outputs": [
        {
          "execution_count": 40,
          "output_type": "execute_result",
          "data": {
            "text/plain": "{'some_list': ['a', 'd', 'c'], 'one_number': 3, 'another_number': 2}"
          },
          "metadata": {}
        }
      ]
    },
    {
      "cell_type": "markdown",
      "source": "You can also add entirely new key/value pairs to the dict in the same way",
      "metadata": {}
    },
    {
      "cell_type": "code",
      "source": "my_dict[\"new_key\"] = \"new_value\"\nmy_dict",
      "metadata": {
        "trusted": true
      },
      "execution_count": 41,
      "outputs": [
        {
          "execution_count": 41,
          "output_type": "execute_result",
          "data": {
            "text/plain": "{'some_list': ['a', 'd', 'c'],\n 'one_number': 3,\n 'another_number': 2,\n 'new_key': 'new_value'}"
          },
          "metadata": {}
        }
      ]
    },
    {
      "cell_type": "markdown",
      "source": "You might have noticed by now, that the changes we have made to variables in previous cells are carried along.  \n`my_list` referenced under the key `some_list` in `my_dict` contains the characters `a`, `d` and `c` and no longer the character `b`.  \nThis is because lists and dicts are so called `mutable` objects (opposite of [immutable](https://docs.python.org/3/glossary.html#term-immutable) objects).  \nWithout going into too much details about mutable and immutable objects, the key take away here is that mutable objects can be altered, whereas immutable objects cannot. If you want to make a change to an immutable object, python will create a new object to store the new value in.\n\nWhich leads us to the last variable type in python: a `tuple`. A tuple behaves almost exactly like a `list`, except that it is immutable.\nLet's declare a tuple with a number and a string.",
      "metadata": {}
    },
    {
      "cell_type": "code",
      "source": "my_tuple = (1, \"two\")\nmy_tuple",
      "metadata": {
        "trusted": true
      },
      "execution_count": 42,
      "outputs": [
        {
          "execution_count": 42,
          "output_type": "execute_result",
          "data": {
            "text/plain": "(1, 'two')"
          },
          "metadata": {}
        }
      ]
    },
    {
      "cell_type": "markdown",
      "source": "We can again use the index to access a value",
      "metadata": {}
    },
    {
      "cell_type": "code",
      "source": "my_tuple[0]",
      "metadata": {
        "trusted": true
      },
      "execution_count": 43,
      "outputs": [
        {
          "execution_count": 43,
          "output_type": "execute_result",
          "data": {
            "text/plain": "1"
          },
          "metadata": {}
        }
      ]
    },
    {
      "cell_type": "markdown",
      "source": "But we cannot change the value at a given index",
      "metadata": {}
    },
    {
      "cell_type": "code",
      "source": "my_tuple[0] = 2",
      "metadata": {
        "trusted": true
      },
      "execution_count": 44,
      "outputs": [
        {
          "ename": "<class 'TypeError'>",
          "evalue": "'tuple' object does not support item assignment",
          "traceback": [
            "\u001b[0;31m---------------------------------------------------------------------------\u001b[0m",
            "\u001b[0;31mTypeError\u001b[0m                                 Traceback (most recent call last)",
            "Cell \u001b[0;32mIn [44], line 1\u001b[0m\n\u001b[0;32m----> 1\u001b[0m \u001b[43mmy_tuple\u001b[49m\u001b[43m[\u001b[49m\u001b[38;5;241;43m0\u001b[39;49m\u001b[43m]\u001b[49m \u001b[38;5;241m=\u001b[39m \u001b[38;5;241m2\u001b[39m\n",
            "\u001b[0;31mTypeError\u001b[0m: 'tuple' object does not support item assignment"
          ],
          "output_type": "error"
        }
      ]
    },
    {
      "cell_type": "markdown",
      "source": "As you can see, trying to change the value at index 0 of `my_tuple` caused a `TypeError`, telling us that `tuple` objects do not support item assignment.  \nIn other words: tuples are immutable.",
      "metadata": {}
    },
    {
      "cell_type": "markdown",
      "source": "# Functions\n\nTo declare a function in Python the keyword `def` is used.  \nLet's define a basic `addition` function, that takes two arguments: `a` and `b` and returns the sum of the two.",
      "metadata": {}
    },
    {
      "cell_type": "code",
      "source": "def addition(a, b):\n    return a + b",
      "metadata": {
        "trusted": true
      },
      "execution_count": 45,
      "outputs": []
    },
    {
      "cell_type": "markdown",
      "source": "The basic blueprint for a function definition goes as follows:\n```\ndef <some name>(<comma separated list of arguments>):\n    <some code>\n```\nPlease note the indentation; this is important in Python.  \nUnlike other languages where function bodies or sections are denoted with special characters like curly brackets (`{`, `}`), in Python they are denoted by their level of indentation.  \nBy default this goes in steps of 1 tab (or 4 spaces).\n\nCalling a function is as simple as writing it's name with the correct arguments, let's say we want to add 3 and 4 together:",
      "metadata": {}
    },
    {
      "cell_type": "code",
      "source": "addition(3, 4)",
      "metadata": {
        "trusted": true
      },
      "execution_count": 46,
      "outputs": [
        {
          "execution_count": 46,
          "output_type": "execute_result",
          "data": {
            "text/plain": "7"
          },
          "metadata": {}
        }
      ]
    },
    {
      "cell_type": "markdown",
      "source": "We can assign the result of a function call to a variable",
      "metadata": {}
    },
    {
      "cell_type": "code",
      "source": "most_powerful_magic_number = addition(3, 4)\nmost_powerful_magic_number",
      "metadata": {
        "trusted": true
      },
      "execution_count": 47,
      "outputs": [
        {
          "execution_count": 47,
          "output_type": "execute_result",
          "data": {
            "text/plain": "7"
          },
          "metadata": {}
        }
      ]
    },
    {
      "cell_type": "markdown",
      "source": "But a function does not need to explicitly return something.  \nIf a function body is missing a return statement, like for example the following function:",
      "metadata": {}
    },
    {
      "cell_type": "code",
      "source": "def do_nothing():\n    unused_variable = 1",
      "metadata": {
        "trusted": true
      },
      "execution_count": 48,
      "outputs": []
    },
    {
      "cell_type": "markdown",
      "source": "Assigning it's result to a variable will still work:",
      "metadata": {}
    },
    {
      "cell_type": "code",
      "source": "a_variable = do_nothing()\nprint(a_variable)",
      "metadata": {
        "trusted": true
      },
      "execution_count": 52,
      "outputs": [
        {
          "name": "stdout",
          "text": "None\n",
          "output_type": "stream"
        }
      ]
    },
    {
      "cell_type": "markdown",
      "source": "This is because in Pyton functions return special type `None` by default.",
      "metadata": {}
    },
    {
      "cell_type": "code",
      "source": "",
      "metadata": {},
      "execution_count": null,
      "outputs": []
    }
  ]
}