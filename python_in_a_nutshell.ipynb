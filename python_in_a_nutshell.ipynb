{
  "cells": [
    {
      "cell_type": "markdown",
      "metadata": {},
      "source": [
        "# Python 🐍 in a nutshell 🥜\n",
        "\n",
        "This is a small introduction to the programming/scripting language called [Python](https://www.python.org/).  \n",
        "It covers everything from basics like how to declare variables up to more advanced notations like comprehensions.\n",
        "\n",
        "# Preface\n",
        "\n",
        "As this introduction will mention and sometimes dip into a lot of topics that are not Python specific but deemed useful programming related information by the author, it is, albeit encouraged, by all means not required to follow every single [link](https://http.cat/204).\n",
        "\n",
        "Especially at the beginning of the introduction, the reader will encounter the use of so called builtins. These are language specific keywords whos definition/meaning is pre-built into the language. `print` for example will display the given text, whereas `type` will display the type of a variable.\n",
        "\n",
        "# Foundation 🏗️\n",
        "\n",
        "Python is a [scripting language](https://www.techtarget.com/whatis/definition/scripting-language). Where C++ source code needs to be compiled before it can be executed, python source code is being interpreted on the fly.  \n",
        "In C++ the compilation is done by a so called compiler, this is usually [gcc](https://linux.die.net/man/1/gcc). In python the interpretation is done by a so called interpreter, this is usually the [python interpreter](https://docs.python.org/3/tutorial/interpreter.html).  \n",
        "Both compiler and interpreter are just programs. Same as Convertible and Coupé are just cars.\n",
        "\n",
        "Just as there exist different Convertible/Coupé versions over the lifespan of a car model, there are also different versions of the compiler or interpreter.\n",
        "While the most recent Python version at time of writing is [3.11](https://docs.python.org/3/whatsnew/3.11.html), the more commonly used Python version is [3.7](https://docs.python.org/3.7/whatsnew/3.7.html). (Usually pyton versions have 3 sets of digits, like `3.7.14`, but the [patch version](https://semver.org/) is not relevant for us)\n",
        "\n",
        "# Getting started 👩‍💻\n",
        "\n",
        "Normally the first step of getting started with Python programming would be to download the Python installer from the [official website](https://www.python.org/downloads/) and proceeding with  the installation process.   \n",
        "Not so for this introduction however!  \n",
        "\n",
        "As you might have noticed, we are in a so called Jupyter Notebook 📒. This allows us to run Python code directly on this page.  \n",
        "To try it out, simply move your cursor in the source code line below (click in it) and click the play (`▶`) button close to it. "
      ]
    },
    {
      "cell_type": "code",
      "execution_count": null,
      "metadata": {
        "trusted": true
      },
      "outputs": [],
      "source": [
        "print(\"Hello World\")"
      ]
    },
    {
      "cell_type": "markdown",
      "metadata": {},
      "source": [
        "If you did everything right, the words `Hello World` should have appeared just above this line 🚀\n",
        "\n",
        "Whenever you see such a source code Cell (prefixed with a number in scare brackets), please be sure to run it before you proceed."
      ]
    },
    {
      "cell_type": "markdown",
      "metadata": {},
      "source": [
        "# Variables\n",
        "\n",
        "Python is an untyped language. This means we don't have to tell Python what type a variable will be, it'll figure that out on its own. (more or less)\n",
        "\n",
        "### Immutable\n",
        "\n",
        "Let's declare our very first variables:"
      ]
    },
    {
      "cell_type": "code",
      "execution_count": null,
      "metadata": {
        "trusted": true
      },
      "outputs": [],
      "source": [
        "favorite_color = \"cyan\"\n",
        "favorite_number = 8"
      ]
    },
    {
      "cell_type": "markdown",
      "metadata": {},
      "source": [
        "We now have two variables, one called `favorite_color` and another one called `favorite_number`.  \n",
        "As we used quotation marks (it doesn't matter if single `'` or double `\"`) to frame the value of our first variable, `favorite_color`, Python knows it is a string (`str`).  "
      ]
    },
    {
      "cell_type": "code",
      "execution_count": null,
      "metadata": {
        "trusted": true
      },
      "outputs": [],
      "source": [
        "type(favorite_color)"
      ]
    },
    {
      "cell_type": "markdown",
      "metadata": {},
      "source": [
        "And, as the value of the second variable, `favorite_number`, only contains numbers, Python knows it is an integer (`int`)."
      ]
    },
    {
      "cell_type": "code",
      "execution_count": null,
      "metadata": {
        "trusted": true
      },
      "outputs": [],
      "source": [
        "type(favorite_number)"
      ]
    },
    {
      "cell_type": "markdown",
      "metadata": {},
      "source": [
        "If we change the value of our `favorite_number` variable to `13.08`, the type will also change from integer to float (`float`)."
      ]
    },
    {
      "cell_type": "code",
      "execution_count": null,
      "metadata": {
        "trusted": true
      },
      "outputs": [],
      "source": [
        "favorite_number = 13.08\n",
        "type(favorite_number)"
      ]
    },
    {
      "cell_type": "markdown",
      "metadata": {},
      "source": [
        "Additionally, we can use so called *unpacking* (more on that later) to write variable assignements in one line:"
      ]
    },
    {
      "cell_type": "code",
      "execution_count": null,
      "metadata": {},
      "outputs": [],
      "source": [
        "first_name, last_name = \"Peter\", \"Parker\"\n",
        "print(first_name, last_name)"
      ]
    },
    {
      "cell_type": "markdown",
      "metadata": {},
      "source": [
        "Note that when using this notation the number of variable names (left side of the equal sign) needs to be equal to the number of variable values (right side of the equal sign)"
      ]
    },
    {
      "cell_type": "markdown",
      "metadata": {},
      "source": [
        "In addition to the default variable types (`int`, `float`, `str`), python has a few more types like `list`, `dict` and `tuple`.  \n",
        "\n",
        "### Mutable\n",
        "\n",
        "A `list` is best compared to an `array` in C++. It is defined using square brackets (`[`, `]`) and contain anything: a string, an integer, another list, etc.  \n",
        "In our case it will contain three characters. (Note that for python even a single character is still a string)"
      ]
    },
    {
      "cell_type": "code",
      "execution_count": null,
      "metadata": {
        "trusted": true
      },
      "outputs": [],
      "source": [
        "my_list = [\"a\", \"b\", \"c\"]"
      ]
    },
    {
      "cell_type": "markdown",
      "metadata": {},
      "source": [
        "As with a C++ `array`, you access the values in a Python list using their index, starting at 0."
      ]
    },
    {
      "cell_type": "code",
      "execution_count": null,
      "metadata": {
        "trusted": true
      },
      "outputs": [],
      "source": [
        "my_list[1]"
      ]
    },
    {
      "cell_type": "markdown",
      "metadata": {},
      "source": [
        "You can also use negativ indexes"
      ]
    },
    {
      "cell_type": "code",
      "execution_count": null,
      "metadata": {
        "trusted": true
      },
      "outputs": [],
      "source": [
        "my_list[-1]"
      ]
    },
    {
      "cell_type": "markdown",
      "metadata": {},
      "source": [
        "You can change (re-assign) the value at a given index by simply assigning it a new value"
      ]
    },
    {
      "cell_type": "code",
      "execution_count": null,
      "metadata": {
        "trusted": true
      },
      "outputs": [],
      "source": [
        "my_list[1] = \"d\"\n",
        "my_list"
      ]
    },
    {
      "cell_type": "markdown",
      "metadata": {},
      "source": [
        "A `dict` is similar to a `list`, as it can also contain anything: a string, an integer, a list, another dict, etc.  \n",
        "In our case it will container `my_list` and two numbers."
      ]
    },
    {
      "cell_type": "code",
      "execution_count": null,
      "metadata": {
        "trusted": true
      },
      "outputs": [],
      "source": [
        "my_dict = {\"some_list\": my_list, \"one_number\": 1, \"another_number\": 2}\n",
        "my_dict"
      ]
    },
    {
      "cell_type": "markdown",
      "metadata": {},
      "source": [
        "As you can see, a `dict` consists of key/value pairs. For each given key there can only be one value (where value can be of any type).  \n",
        "You can access the values in a Python dict using their key:"
      ]
    },
    {
      "cell_type": "code",
      "execution_count": null,
      "metadata": {
        "trusted": true
      },
      "outputs": [],
      "source": [
        "my_dict[\"some_list\"]"
      ]
    },
    {
      "cell_type": "markdown",
      "metadata": {},
      "source": [
        "And as with a list, you can change (re-assign) values of a given key by simply assigning it a new value"
      ]
    },
    {
      "cell_type": "code",
      "execution_count": null,
      "metadata": {
        "trusted": true
      },
      "outputs": [],
      "source": [
        "my_dict[\"one_number\"] = 3\n",
        "my_dict"
      ]
    },
    {
      "cell_type": "markdown",
      "metadata": {},
      "source": [
        "You can also add entirely new key/value pairs to the dict in the same way"
      ]
    },
    {
      "cell_type": "code",
      "execution_count": null,
      "metadata": {
        "trusted": true
      },
      "outputs": [],
      "source": [
        "my_dict[\"new_key\"] = \"new_value\"\n",
        "my_dict"
      ]
    },
    {
      "cell_type": "markdown",
      "metadata": {},
      "source": [
        "You might have noticed by now, that the changes we have made to variables in previous cells are carried along.  \n",
        "`my_list` referenced under the key `some_list` in `my_dict` contains the characters `a`, `d` and `c` and no longer the character `b`.  \n",
        "This is because lists and dicts are so called `mutable` objects (opposite of [immutable](https://docs.python.org/3/glossary.html#term-immutable) objects).  \n",
        "Without going into too much details about mutable and immutable objects, the key take away here is that mutable objects can be altered, whereas immutable objects cannot. If you want to make a change to an immutable object, python will create a new object to store the new value in.\n",
        "\n",
        "Which leads us to the last variable type in python: a `tuple`. A tuple behaves almost exactly like a `list`, except that it is immutable.\n",
        "Let's declare a tuple with a number and a string."
      ]
    },
    {
      "cell_type": "code",
      "execution_count": null,
      "metadata": {
        "trusted": true
      },
      "outputs": [],
      "source": [
        "my_tuple = (1, \"two\")\n",
        "my_tuple"
      ]
    },
    {
      "cell_type": "markdown",
      "metadata": {},
      "source": [
        "We can again use the index to access a value"
      ]
    },
    {
      "cell_type": "code",
      "execution_count": null,
      "metadata": {
        "trusted": true
      },
      "outputs": [],
      "source": [
        "my_tuple[0]"
      ]
    },
    {
      "cell_type": "markdown",
      "metadata": {},
      "source": [
        "But we cannot change the value at a given index"
      ]
    },
    {
      "cell_type": "code",
      "execution_count": null,
      "metadata": {
        "trusted": true
      },
      "outputs": [],
      "source": [
        "my_tuple[0] = 2"
      ]
    },
    {
      "cell_type": "markdown",
      "metadata": {},
      "source": [
        "As you can see, trying to change the value at index 0 of `my_tuple` caused a `TypeError`, telling us that `tuple` objects do not support item assignment.  \n",
        "In other words: tuples are immutable."
      ]
    },
    {
      "cell_type": "markdown",
      "metadata": {},
      "source": [
        "# Functions\n",
        "\n",
        "To declare a function in Python the keyword `def` is used.  \n",
        "Let's define a basic `addition` function, that takes two arguments: `a` and `b` and returns the sum of the two."
      ]
    },
    {
      "cell_type": "code",
      "execution_count": null,
      "metadata": {
        "trusted": true
      },
      "outputs": [],
      "source": [
        "def addition(a, b):\n",
        "    return a + b"
      ]
    },
    {
      "cell_type": "markdown",
      "metadata": {},
      "source": [
        "The basic blueprint for a function definition goes as follows:\n",
        "```\n",
        "def <some name>(<comma separated list of arguments>):\n",
        "    <some code>\n",
        "```\n",
        "Please note the indentation; this is important in Python.  \n",
        "Unlike other languages where function bodies or sections are denoted with special characters like curly brackets (`{`, `}`), in Python they are denoted by their level of indentation.  \n",
        "By default this goes in steps of 1 tab (or 4 spaces).\n",
        "\n",
        "Calling a function is as simple as writing it's name with the correct arguments, let's say we want to add 3 and 4 together:"
      ]
    },
    {
      "cell_type": "code",
      "execution_count": null,
      "metadata": {
        "trusted": true
      },
      "outputs": [],
      "source": [
        "addition(3, 4)"
      ]
    },
    {
      "cell_type": "markdown",
      "metadata": {},
      "source": [
        "We can assign the result of a function call to a variable"
      ]
    },
    {
      "cell_type": "code",
      "execution_count": null,
      "metadata": {
        "trusted": true
      },
      "outputs": [],
      "source": [
        "most_powerful_magic_number = addition(3, 4)\n",
        "most_powerful_magic_number"
      ]
    },
    {
      "cell_type": "markdown",
      "metadata": {},
      "source": [
        "But a function does not need to explicitly return something.  \n",
        "If a function body is missing a return statement, like for example the following function:"
      ]
    },
    {
      "cell_type": "code",
      "execution_count": null,
      "metadata": {
        "trusted": true
      },
      "outputs": [],
      "source": [
        "def do_nothing():\n",
        "    unused_variable = 1"
      ]
    },
    {
      "cell_type": "markdown",
      "metadata": {},
      "source": [
        "Assigning it's result to a variable will still work:"
      ]
    },
    {
      "cell_type": "code",
      "execution_count": null,
      "metadata": {
        "trusted": true
      },
      "outputs": [],
      "source": [
        "a_variable = do_nothing()\n",
        "print(a_variable)"
      ]
    },
    {
      "cell_type": "markdown",
      "metadata": {},
      "source": [
        "This is because in Pyton, functions return the special type `None` by default."
      ]
    },
    {
      "cell_type": "markdown",
      "metadata": {},
      "source": [
        "# Conditionals\n",
        "The only conditional Python knows is the `if/elif/else` construct. If the provided condition evaluates to `True` Python executes the code for that block, otherwise it skips over it."
      ]
    },
    {
      "cell_type": "code",
      "execution_count": null,
      "metadata": {},
      "outputs": [],
      "source": [
        "if 1 + 1 == 3:\n",
        "    print(\"That's not right! 😲\")\n",
        "else:\n",
        "    print(\"1 + 1 = 2!\")\n",
        "\n",
        "print(\"Was my math correct?\")"
      ]
    },
    {
      "cell_type": "markdown",
      "metadata": {},
      "source": [
        "If you want to verify which expressions evaluate to `True` and which to `False`, simply convert them to a `bool` using it's constructor:"
      ]
    },
    {
      "cell_type": "code",
      "execution_count": null,
      "metadata": {},
      "outputs": [],
      "source": [
        "print(bool(\"Some test\"))\n",
        "print(bool(\"\"))\n",
        "print(bool([\"some Value\"]))\n",
        "print(bool([]))\n",
        "print(bool(1))\n",
        "print(bool(0))"
      ]
    },
    {
      "cell_type": "markdown",
      "metadata": {},
      "source": [
        "Yet another example:"
      ]
    },
    {
      "cell_type": "code",
      "execution_count": null,
      "metadata": {},
      "outputs": [],
      "source": [
        "some_list = [\"some value\"]\n",
        "if \"another value\" in some_list:\n",
        "    print(\"That's strange 🤔\")\n",
        "elif \"some value\" in some_list:\n",
        "    print(\"Yes indeed 'some value' is in the list!\")\n",
        "else:\n",
        "    print(\"That's also strange 🤔\")"
      ]
    },
    {
      "cell_type": "markdown",
      "metadata": {},
      "source": [
        "Notice how we used the builtin `in` operator to evaluate whether a certain value was part of our list or not."
      ]
    },
    {
      "cell_type": "markdown",
      "metadata": {},
      "source": [
        "# Loops\n",
        "Python knows 2 kind of loops: `for` loops and `while` loops.\n",
        "### for\n",
        "Other than in C++, in Python one does usually not loop (a.k.a. iterate) over a number of integer values until a certain condition is met.\n",
        "Instead, in Python you directly iterate over the thing you are intereseted in.\n",
        "Let's for example say we would like to iterate over all the values in the following list:"
      ]
    },
    {
      "cell_type": "code",
      "execution_count": null,
      "metadata": {},
      "outputs": [],
      "source": [
        "my_list = [\"value the first\", \"value the second\", \"value of the third\"]"
      ]
    },
    {
      "cell_type": "markdown",
      "metadata": {},
      "source": [
        "In C++ one would usually do something like this:\n",
        "```\n",
        "for (int index; index < my_list.length; index++) {\n",
        "    value = my_list[index];\n",
        "    println(value);\n",
        "}\n",
        "```\n",
        "But in python, we can do the following:"
      ]
    },
    {
      "cell_type": "code",
      "execution_count": null,
      "metadata": {},
      "outputs": [],
      "source": [
        "for value in my_list:\n",
        "    print(value)"
      ]
    },
    {
      "cell_type": "markdown",
      "metadata": {},
      "source": [
        "If we still need the index, we can use the builtin function `enumerate`:"
      ]
    },
    {
      "cell_type": "code",
      "execution_count": null,
      "metadata": {},
      "outputs": [],
      "source": [
        "for index, value in enumerate(my_list):\n",
        "    print(index, value)"
      ]
    },
    {
      "cell_type": "markdown",
      "metadata": {},
      "source": [
        "(Note how we used *unpacking* here again to unpack the return value of the enumerate function call and assign each part to its own variable).  \n",
        "Using the same technique we can also iterate over key/value pairs of a dictionary:"
      ]
    },
    {
      "cell_type": "code",
      "execution_count": null,
      "metadata": {},
      "outputs": [],
      "source": [
        "my_dict = {\"one key\": \"one value\", \"another key\": \"another value\"}\n",
        "for key, value in my_dict.items():\n",
        "    print(key, value)"
      ]
    },
    {
      "cell_type": "markdown",
      "metadata": {},
      "source": [
        "`dict`s have 3 methods (a special type of function, we will see later what exactly makes it special) that can be used to access a dicts `keys`, `values` or both (`items`) in form of an iterable."
      ]
    },
    {
      "cell_type": "code",
      "execution_count": null,
      "metadata": {},
      "outputs": [],
      "source": [
        "for key in my_dict.keys():\n",
        "    print(key)\n",
        "\n",
        "for value in my_dict.values():\n",
        "    print(value)"
      ]
    },
    {
      "cell_type": "markdown",
      "metadata": {},
      "source": [
        "If we want to exit a loop early we use the keyword `break`"
      ]
    },
    {
      "cell_type": "code",
      "execution_count": null,
      "metadata": {},
      "outputs": [],
      "source": [
        "for index, value in enumerate(my_list):\n",
        "    if index >= 1:\n",
        "        break\n",
        "    print(value)"
      ]
    },
    {
      "cell_type": "markdown",
      "metadata": {},
      "source": [
        "Similarly if we want to continue with the next iteration right away we can use the keyword `continue`.  \n",
        "In this case we shall only print the value if the index is an odd number (we use the modulo `%` operation to determine this)."
      ]
    },
    {
      "cell_type": "code",
      "execution_count": null,
      "metadata": {},
      "outputs": [],
      "source": [
        "for index, value in enumerate(my_list):\n",
        "    if index % 2:\n",
        "        continue\n",
        "    print(value)"
      ]
    },
    {
      "cell_type": "markdown",
      "metadata": {},
      "source": [
        "### while\n",
        "The other loop known to Python is a `while` loop.  \n",
        "While loops in Python are almost exclusively used to iterate over lines of code until a condition, which at the time of entering the loop is not yet determined, evaluates to `True`.  \n",
        "Let's say for example we want to ask the user for input until it's input matches a specific string:"
      ]
    },
    {
      "cell_type": "code",
      "execution_count": null,
      "metadata": {},
      "outputs": [],
      "source": [
        "while True:\n",
        "    if input() == \"password\":\n",
        "        print(\"Password correct!\")\n",
        "        break\n",
        "\n",
        "print(\"You successfully exited the loop!\")"
      ]
    },
    {
      "cell_type": "markdown",
      "metadata": {},
      "source": [
        "We could also write the same code like this:"
      ]
    },
    {
      "cell_type": "code",
      "execution_count": null,
      "metadata": {},
      "outputs": [],
      "source": [
        "while input() != \"password\":\n",
        "    pass\n",
        "\n",
        "print(\"Password correct!\")\n",
        "print(\"You successfully exited the loop!\")"
      ]
    },
    {
      "cell_type": "markdown",
      "metadata": {},
      "source": [
        "Note how we used the builtin `pass` to tell python that it shouldn't do anything in that line.  \n",
        "\n",
        "Both `for` and `while` loops support the `else` statement.  \n",
        "While it is probably intuitive what `else` does in an `if/else` statement, the question you are probably asking yourself is \"what does it do in a `for/while` loop?\".  \n",
        "I would like you to answer this question for yourself. Let me give you a couple of examples that should help you figure it out:"
      ]
    },
    {
      "cell_type": "code",
      "execution_count": null,
      "metadata": {},
      "outputs": [],
      "source": [
        "def tell_me_four(some_list):\n",
        "    for element in some_list:\n",
        "        if element == 4:\n",
        "            print(\"4!\")\n",
        "            break\n",
        "    else:\n",
        "        print(\"There is no 4 in that list 😿\")\n",
        "\n",
        "my_list = [1,2,3]\n",
        "tell_me_four(my_list)\n",
        "my_list.append(4)\n",
        "tell_me_four(my_list)"
      ]
    },
    {
      "cell_type": "code",
      "execution_count": null,
      "metadata": {},
      "outputs": [],
      "source": [
        "def has_only_ones(some_list):\n",
        "    for element in some_list:\n",
        "        if element != 1:\n",
        "            return False\n",
        "    else:\n",
        "        return True\n",
        "\n",
        "my_list = [1,1,1]\n",
        "print(has_only_ones(my_list))\n",
        "my_list.append(2)\n",
        "print(has_only_ones(my_list))"
      ]
    },
    {
      "cell_type": "code",
      "execution_count": null,
      "metadata": {},
      "outputs": [],
      "source": [
        "my_int = 1\n",
        "while my_int < 10:\n",
        "    my_int += 1\n",
        "    if my_int % 2:\n",
        "        continue\n",
        "    print(my_int)\n",
        "else:\n",
        "    print(\"This is an else block!\")\n",
        "\n",
        "print(\"Done!\")"
      ]
    },
    {
      "cell_type": "markdown",
      "metadata": {},
      "source": [
        "<details>\n",
        "<summary>Answer</summary>\n",
        "else in combination with a loop in Python will only be executed if the entire loop got executed.<br>\n",
        "Meaning if the loop is left prematurely, either because of a return or a break statement or because an Error was raised, the else statement will not be executed.\n",
        "</details>"
      ]
    },
    {
      "cell_type": "markdown",
      "metadata": {},
      "source": [
        "# Unpacking\n",
        "*Unpacking* in Python refers to an operation that consists of assigning an iterable of values to a tuple or list of variables in a single assignment statement.  \n",
        "While this sounds complicated, there is nothing to fear.  \n",
        "An iterable in Python is any Object that can be iterated over, such a list or a tuple.  \n",
        "Let's for example unpack the values in the following list into their own variables:"
      ]
    },
    {
      "cell_type": "code",
      "execution_count": null,
      "metadata": {},
      "outputs": [],
      "source": [
        "my_list = [1,2,3,4,5]\n",
        "value_one, value_two, value_three, value_four, value_five = my_list\n",
        "print(value_one, value_two, value_three, value_four, value_five)"
      ]
    },
    {
      "cell_type": "markdown",
      "metadata": {},
      "source": [
        "This is especially usefull when you have a function that returns multiple values:"
      ]
    },
    {
      "cell_type": "code",
      "execution_count": null,
      "metadata": {},
      "outputs": [],
      "source": [
        "def division_with_remainder(dividend, divisor):\n",
        "    quotient = int(dividend / divisor)\n",
        "    remainder = dividend % divisor\n",
        "    return quotient, remainder\n",
        "\n",
        "quotient, remainder = division_with_remainder(5, 2)\n",
        "print(\"5 divided by 2 equals \" + str(quotient) + \" with a remainder of \" + str(remainder))"
      ]
    },
    {
      "cell_type": "markdown",
      "metadata": {},
      "source": [
        "Another application of unpacking can be found in function calls.  \n",
        "Let's say the numbers I want to divide are in a list:"
      ]
    },
    {
      "cell_type": "code",
      "execution_count": null,
      "metadata": {},
      "outputs": [],
      "source": [
        "my_list = [5, 2]"
      ]
    },
    {
      "cell_type": "markdown",
      "metadata": {},
      "source": [
        "I can use the star expression (`*`) to instruct Python to unpack the values of my list so that the first value (`5`) will be assigned to the first argument of our function (`dividend`) and the second value (`2`) to the second argument (`divisor`):"
      ]
    },
    {
      "cell_type": "code",
      "execution_count": null,
      "metadata": {},
      "outputs": [],
      "source": [
        "quotient, remainder = division_with_remainder(*my_list)\n",
        "print(\"5 divided by 2 equals \" + str(quotient) + \" with a remainder of \" + str(remainder))"
      ]
    }
  ],
  "metadata": {
    "kernelspec": {
      "display_name": "Python 3.7.1 64-bit",
      "language": "python",
      "name": "python3"
    },
    "language_info": {
      "codemirror_mode": {
        "name": "ipython",
        "version": 3
      },
      "file_extension": ".py",
      "mimetype": "text/x-python",
      "name": "python",
      "nbconvert_exporter": "python",
      "pygments_lexer": "ipython3",
      "version": "3.7.1"
    },
    "vscode": {
      "interpreter": {
        "hash": "fd69f43f58546b570e94fd7eba7b65e6bcc7a5bbc4eab0408017d18902915d69"
      }
    }
  },
  "nbformat": 4,
  "nbformat_minor": 4
}
